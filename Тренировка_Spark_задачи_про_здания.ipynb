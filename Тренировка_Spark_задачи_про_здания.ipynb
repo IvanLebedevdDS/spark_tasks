{
  "nbformat": 4,
  "nbformat_minor": 0,
  "metadata": {
    "colab": {
      "provenance": []
    },
    "kernelspec": {
      "name": "python3",
      "display_name": "Python 3"
    },
    "language_info": {
      "name": "python"
    }
  },
  "cells": [
    {
      "cell_type": "markdown",
      "source": [
        "# **Задачи на тренировку SPARK**"
      ],
      "metadata": {
        "id": "w9Gzw3uD0vjD"
      }
    },
    {
      "cell_type": "markdown",
      "source": [
        "Таблица в БД - building\n",
        "entrance (подъезд)  floor (этаж)  flat (номер квартиры)  num_persons (количество человек).\n",
        "Для начала подготовим исходную выборку данных."
      ],
      "metadata": {
        "id": "ICSMCk_B04Wb"
      }
    },
    {
      "cell_type": "code",
      "execution_count": 1,
      "metadata": {
        "id": "3W5g2mPF0li6"
      },
      "outputs": [],
      "source": [
        "class Building:\n",
        "  def __init__(self, num_of_entrances=1, num_of_floors=1, num_of_flats=1):\n",
        "    self.num_of_entrances = num_of_entrances\n",
        "    self.num_of_floors = num_of_floors\n",
        "    self.num_of_flats = num_of_flats\n",
        "  \n",
        "  def get_building(self):\n",
        "    building = []\n",
        "    import itertools\n",
        "    import random\n",
        "    temp = list(itertools.product(range(1, self.num_of_entrances+1), \n",
        "                             range(1, self.num_of_floors+1), range(1, self.num_of_flats+1)))\n",
        "    for i, flat in enumerate(temp, start=1):\n",
        "      building.append({'entrance': flat[0], 'floor': flat[1], 'flat': i, 'num_persons': random.randint(1, 5)})\n",
        "    return building"
      ]
    },
    {
      "cell_type": "markdown",
      "source": [
        "Создадим здание из 2 подъездов 2 этажей по 4 квартиры на этаже."
      ],
      "metadata": {
        "id": "vFWA2e1d8jVS"
      }
    },
    {
      "cell_type": "code",
      "source": [
        "building = Building(2, 2, 4)\n",
        "one_building = building.get_building()"
      ],
      "metadata": {
        "id": "VPhGIq6q1rwy"
      },
      "execution_count": 2,
      "outputs": []
    },
    {
      "cell_type": "markdown",
      "source": [
        "Создадим датасет Spark."
      ],
      "metadata": {
        "id": "bFySdkFl83YR"
      }
    },
    {
      "cell_type": "code",
      "source": [
        "# Подключаем библиотеки и создаем sparksession\n",
        "!pip install pyspark\n",
        "from pyspark.sql import SparkSession\n",
        "from pyspark.sql import functions as f\n",
        "from pyspark.sql.window import Window\n",
        "\n",
        "spark = SparkSession.builder \\\n",
        "                    .appName(\"buildings\") \\\n",
        "                    .master(\"local\") \\\n",
        "                    .enableHiveSupport() \\\n",
        "                    .getOrCreate()"
      ],
      "metadata": {
        "colab": {
          "base_uri": "https://localhost:8080/"
        },
        "id": "yj4ORti68795",
        "outputId": "9bab94cb-0b22-47ae-b611-0cd24018ac8a"
      },
      "execution_count": 3,
      "outputs": [
        {
          "output_type": "stream",
          "name": "stdout",
          "text": [
            "Looking in indexes: https://pypi.org/simple, https://us-python.pkg.dev/colab-wheels/public/simple/\n",
            "Collecting pyspark\n",
            "  Downloading pyspark-3.3.2.tar.gz (281.4 MB)\n",
            "\u001b[2K     \u001b[90m━━━━━━━━━━━━━━━━━━━━━━━━━━━━━━━━━━━━━━━\u001b[0m \u001b[32m281.4/281.4 MB\u001b[0m \u001b[31m4.4 MB/s\u001b[0m eta \u001b[36m0:00:00\u001b[0m\n",
            "\u001b[?25h  Preparing metadata (setup.py) ... \u001b[?25l\u001b[?25hdone\n",
            "Collecting py4j==0.10.9.5\n",
            "  Downloading py4j-0.10.9.5-py2.py3-none-any.whl (199 kB)\n",
            "\u001b[2K     \u001b[90m━━━━━━━━━━━━━━━━━━━━━━━━━━━━━━━━━━━━━━\u001b[0m \u001b[32m199.7/199.7 KB\u001b[0m \u001b[31m13.4 MB/s\u001b[0m eta \u001b[36m0:00:00\u001b[0m\n",
            "\u001b[?25hBuilding wheels for collected packages: pyspark\n",
            "  Building wheel for pyspark (setup.py) ... \u001b[?25l\u001b[?25hdone\n",
            "  Created wheel for pyspark: filename=pyspark-3.3.2-py2.py3-none-any.whl size=281824025 sha256=ba1a2a634cba09ed948c59733883f7f73ba53447654bb3e447bfea2f4f511778\n",
            "  Stored in directory: /root/.cache/pip/wheels/6c/e3/9b/0525ce8a69478916513509d43693511463c6468db0de237c86\n",
            "Successfully built pyspark\n",
            "Installing collected packages: py4j, pyspark\n",
            "Successfully installed py4j-0.10.9.5 pyspark-3.3.2\n"
          ]
        }
      ]
    },
    {
      "cell_type": "markdown",
      "source": [
        "Создаем датасет."
      ],
      "metadata": {
        "id": "wnS80b7L9l55"
      }
    },
    {
      "cell_type": "code",
      "source": [
        "building = spark.createDataFrame(one_building)\n",
        "building.show(5)"
      ],
      "metadata": {
        "colab": {
          "base_uri": "https://localhost:8080/"
        },
        "id": "9SCzS8WW9qWJ",
        "outputId": "4ff86c52-dcb4-4a56-a0b0-021fd50bbde3"
      },
      "execution_count": 4,
      "outputs": [
        {
          "output_type": "stream",
          "name": "stdout",
          "text": [
            "+--------+----+-----+-----------+\n",
            "|entrance|flat|floor|num_persons|\n",
            "+--------+----+-----+-----------+\n",
            "|       1|   1|    1|          4|\n",
            "|       1|   2|    1|          1|\n",
            "|       1|   3|    1|          3|\n",
            "|       1|   4|    1|          4|\n",
            "|       1|   5|    2|          4|\n",
            "+--------+----+-----+-----------+\n",
            "only showing top 5 rows\n",
            "\n"
          ]
        }
      ]
    },
    {
      "cell_type": "markdown",
      "source": [
        "Далее идут задачи с использованием данных этого датасета. Все задачи будут прорешаны 2-мя способами: с помощью spark.sql и spark.function."
      ],
      "metadata": {
        "id": "DhLBMjL18tDE"
      }
    },
    {
      "cell_type": "markdown",
      "source": [
        "### *1 Вывести все подъезды и этажи с количеством человек на этаже*"
      ],
      "metadata": {
        "id": "QxlwxT9u-dHi"
      }
    },
    {
      "cell_type": "code",
      "source": [
        "building.createOrReplaceTempView('building')"
      ],
      "metadata": {
        "id": "CsX6NjpZ-bD9"
      },
      "execution_count": 5,
      "outputs": []
    },
    {
      "cell_type": "code",
      "source": [
        "spark.sql(\"\"\"\n",
        "          select \n",
        "            entrance, \n",
        "            floor,\n",
        "            sum(num_persons) as persons_on_the_floor\n",
        "          from building\n",
        "          group by entrance, floor\n",
        "\"\"\").show()"
      ],
      "metadata": {
        "colab": {
          "base_uri": "https://localhost:8080/"
        },
        "id": "YycawfYc52uo",
        "outputId": "4725a697-99df-473a-d020-521075e09deb"
      },
      "execution_count": 6,
      "outputs": [
        {
          "output_type": "stream",
          "name": "stdout",
          "text": [
            "+--------+-----+--------------------+\n",
            "|entrance|floor|persons_on_the_floor|\n",
            "+--------+-----+--------------------+\n",
            "|       1|    1|                  12|\n",
            "|       2|    2|                  12|\n",
            "|       1|    2|                  12|\n",
            "|       2|    1|                  16|\n",
            "+--------+-----+--------------------+\n",
            "\n"
          ]
        }
      ]
    },
    {
      "cell_type": "code",
      "source": [
        "building.groupBy(\"entrance\", \"floor\").agg(f.sum(\"num_persons\").alias(\"persons_on_the_floor\")).show()"
      ],
      "metadata": {
        "colab": {
          "base_uri": "https://localhost:8080/"
        },
        "id": "NMwX1Pg26xV-",
        "outputId": "ed5e3a58-71a3-43e2-ef8f-c174a84c459f"
      },
      "execution_count": 7,
      "outputs": [
        {
          "output_type": "stream",
          "name": "stdout",
          "text": [
            "+--------+-----+--------------------+\n",
            "|entrance|floor|persons_on_the_floor|\n",
            "+--------+-----+--------------------+\n",
            "|       1|    1|                  12|\n",
            "|       2|    2|                  12|\n",
            "|       1|    2|                  12|\n",
            "|       2|    1|                  16|\n",
            "+--------+-----+--------------------+\n",
            "\n"
          ]
        }
      ]
    },
    {
      "cell_type": "markdown",
      "source": [
        "### *2 Вывести все подъезды и этажи с количеством человек на этаже больше 5*"
      ],
      "metadata": {
        "id": "y_fsf-HGCRpO"
      }
    },
    {
      "cell_type": "code",
      "source": [
        "spark.sql(\"\"\"\n",
        "          select\n",
        "            entrance,\n",
        "            floor,\n",
        "            sum(num_persons) as persons_on_the_floor\n",
        "          from building\n",
        "          group by entrance, floor\n",
        "          having sum(num_persons) > 5\n",
        "          \"\"\").show()"
      ],
      "metadata": {
        "colab": {
          "base_uri": "https://localhost:8080/"
        },
        "id": "c0OWDNhoA4LZ",
        "outputId": "043263a5-6487-4923-b4c8-8bce08507699"
      },
      "execution_count": 8,
      "outputs": [
        {
          "output_type": "stream",
          "name": "stdout",
          "text": [
            "+--------+-----+--------------------+\n",
            "|entrance|floor|persons_on_the_floor|\n",
            "+--------+-----+--------------------+\n",
            "|       1|    1|                  12|\n",
            "|       2|    2|                  12|\n",
            "|       1|    2|                  12|\n",
            "|       2|    1|                  16|\n",
            "+--------+-----+--------------------+\n",
            "\n"
          ]
        }
      ]
    },
    {
      "cell_type": "code",
      "source": [
        "building.groupby(\"entrance\", \"floor\").agg(f.sum(\"num_persons\").alias(\"persons_on_the_floor\")).filter(f.col(\"persons_on_the_floor\") > 5).show()"
      ],
      "metadata": {
        "colab": {
          "base_uri": "https://localhost:8080/"
        },
        "id": "y7JlT4gsCLCx",
        "outputId": "bb94e7da-b03e-4403-8f92-69e2153d6b60"
      },
      "execution_count": 9,
      "outputs": [
        {
          "output_type": "stream",
          "name": "stdout",
          "text": [
            "+--------+-----+--------------------+\n",
            "|entrance|floor|persons_on_the_floor|\n",
            "+--------+-----+--------------------+\n",
            "|       1|    1|                  12|\n",
            "|       2|    2|                  12|\n",
            "|       1|    2|                  12|\n",
            "|       2|    1|                  16|\n",
            "+--------+-----+--------------------+\n",
            "\n"
          ]
        }
      ]
    },
    {
      "cell_type": "markdown",
      "source": [
        "### *3 Вывести Подъезд (entrance) и этаж с самым большим суммарным количеством человек?*"
      ],
      "metadata": {
        "id": "eFunnw6S87t5"
      }
    },
    {
      "cell_type": "code",
      "source": [
        "spark.sql(\"\"\"\n",
        "          with sum_floor as (\n",
        "            select\n",
        "            entrance,\n",
        "            floor,\n",
        "            sum(num_persons) as persons_on_the_floor\n",
        "            from building\n",
        "            group by entrance, floor\n",
        "          )\n",
        "          select entrance, floor\n",
        "          from sum_floor\n",
        "          order by persons_on_the_floor desc\n",
        "          limit 1          \n",
        "          \"\"\").show()"
      ],
      "metadata": {
        "colab": {
          "base_uri": "https://localhost:8080/"
        },
        "id": "9HGO39x3ps51",
        "outputId": "56664b07-bc44-46c9-fc61-d88ef7742fc7"
      },
      "execution_count": 14,
      "outputs": [
        {
          "output_type": "stream",
          "name": "stdout",
          "text": [
            "+--------+-----+\n",
            "|entrance|floor|\n",
            "+--------+-----+\n",
            "|       2|    1|\n",
            "+--------+-----+\n",
            "\n"
          ]
        }
      ]
    },
    {
      "cell_type": "code",
      "source": [
        "building.groupby(\"entrance\", \"floor\").agg(f.sum(f.col(\"num_persons\")).alias(\"persons_on_the_floor\")).sort(f.desc(\"persons_on_the_floor\")).limit(1).show()"
      ],
      "metadata": {
        "colab": {
          "base_uri": "https://localhost:8080/"
        },
        "id": "cWT0ycOz9-MY",
        "outputId": "2710bc25-ab71-43d0-d2d4-fbbe10133ef3"
      },
      "execution_count": 32,
      "outputs": [
        {
          "output_type": "stream",
          "name": "stdout",
          "text": [
            "+--------+-----+--------------------+\n",
            "|entrance|floor|persons_on_the_floor|\n",
            "+--------+-----+--------------------+\n",
            "|       2|    1|                  16|\n",
            "+--------+-----+--------------------+\n",
            "\n"
          ]
        }
      ]
    },
    {
      "cell_type": "markdown",
      "source": [
        "### *4 Вывести для каждого подъезда самый густонаселенный этаж*"
      ],
      "metadata": {
        "id": "3E7K4WEBAeUa"
      }
    },
    {
      "cell_type": "code",
      "source": [
        "spark.sql(\"\"\"\n",
        "          with sum_floor as (\n",
        "            select\n",
        "            entrance,\n",
        "            floor,\n",
        "            sum(num_persons) as persons_on_the_floor\n",
        "            from building\n",
        "            group by entrance, floor\n",
        "          ),\n",
        "\n",
        "          sum_floor_with_rn as (\n",
        "            select\n",
        "            *,\n",
        "            row_number() over (partition by entrance order by persons_on_the_floor desc) as rn\n",
        "            from sum_floor\n",
        "          )\n",
        "\n",
        "          select\n",
        "          entrance,\n",
        "          floor,\n",
        "          persons_on_the_floor\n",
        "          from sum_floor_with_rn\n",
        "          where rn = 1\n",
        "          \n",
        "          \"\"\").show()"
      ],
      "metadata": {
        "colab": {
          "base_uri": "https://localhost:8080/"
        },
        "id": "88NRcjX9-hfo",
        "outputId": "2f264f40-90fe-4713-cb31-47e7a16b8647"
      },
      "execution_count": 37,
      "outputs": [
        {
          "output_type": "stream",
          "name": "stdout",
          "text": [
            "+--------+-----+--------------------+\n",
            "|entrance|floor|persons_on_the_floor|\n",
            "+--------+-----+--------------------+\n",
            "|       1|    1|                  12|\n",
            "|       2|    1|                  16|\n",
            "+--------+-----+--------------------+\n",
            "\n"
          ]
        }
      ]
    },
    {
      "cell_type": "code",
      "source": [
        "building.groupBy(\"entrance\", \"floor\")\\\n",
        "        .agg(f.sum(\"num_persons\").alias(\"persons_on_the_floor\"))\\\n",
        "        .withColumn(\"rn\", f.row_number().over(Window.partitionBy(\"entrance\").orderBy(f.desc(\"persons_on_the_floor\"))))\\\n",
        "        .where(\"rn = 1\")\\\n",
        "        .show()"
      ],
      "metadata": {
        "colab": {
          "base_uri": "https://localhost:8080/"
        },
        "id": "X5YfBxlaBvl0",
        "outputId": "d1cef666-623d-4362-852a-04935373bdfc"
      },
      "execution_count": 59,
      "outputs": [
        {
          "output_type": "stream",
          "name": "stdout",
          "text": [
            "+--------+-----+--------------------+---+\n",
            "|entrance|floor|persons_on_the_floor| rn|\n",
            "+--------+-----+--------------------+---+\n",
            "|       1|    1|                  12|  1|\n",
            "|       2|    1|                  16|  1|\n",
            "+--------+-----+--------------------+---+\n",
            "\n"
          ]
        }
      ]
    },
    {
      "cell_type": "code",
      "source": [],
      "metadata": {
        "id": "SOqkdYE6Caut"
      },
      "execution_count": null,
      "outputs": []
    }
  ]
}
